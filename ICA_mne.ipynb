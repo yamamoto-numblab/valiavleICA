{
 "cells": [
  {
   "cell_type": "code",
   "execution_count": 16,
   "metadata": {},
   "outputs": [],
   "source": [
    "#EEGデータのパス\n",
    "filepath = \"/Users/yamamotokouhei/実験データ/1day/EEG_grasping_09-Dec-2020_kei_sub1-3.mat\""
   ]
  },
  {
   "cell_type": "code",
   "execution_count": 17,
   "metadata": {},
   "outputs": [],
   "source": [
    "from sklearn.decomposition import FastICA\n",
    "import numpy as np\n",
    "import matplotlib.pyplot as plt\n",
    "import numpy as np\n",
    "import scipy.io\n",
    "import pandas as pd\n"
   ]
  },
  {
   "cell_type": "code",
   "execution_count": 18,
   "metadata": {},
   "outputs": [],
   "source": [
    "# dataクラス\n",
    "class O_Data:\n",
    "    def __init__(self, eeg, index, label):\n",
    "        self.eeg = eeg\n",
    "        self.index = index\n",
    "        self.label = label\n",
    "        self.stack = []\n",
    "\n",
    "    def push(self, item):\n",
    "        self.stack.append(item)\n",
    "\n",
    "o_data65 = list()\n",
    "R_data = list()  #  実運動のデータを格納\n",
    "RI_data = list()  # 実運動＋想起運動のデータを格納\n",
    "All_data = list()  # 全データを格納\n",
    "\n",
    "def Standardization(data): #標準化\n",
    "    after_data = scipy.stats.zscore(data)\n",
    "    b = np.average(after_data)\n",
    "    c = np.var(after_data)\n",
    "    return after_data"
   ]
  },
  {
   "cell_type": "code",
   "execution_count": 19,
   "metadata": {},
   "outputs": [],
   "source": [
    "# 変数など\n",
    "data_directry = ''\n",
    "file_num = 1\n",
    "\n",
    "trial_num = 30\n",
    "all_trial = (file_num) * trial_num\n",
    "all_d = 0\n",
    "CH = 64\n",
    "#EEGデータ\n",
    "#for s in range(file_num):\n",
    "#とりあえず1データでICAできるかどうか\n",
    "Dictionary = scipy.io.loadmat(filepath)\n",
    "for t in range(trial_num):\n",
    "    for i, key in enumerate(Dictionary.keys()):\n",
    "        if i > 2:\n",
    "            a = Dictionary[key]\n",
    "            b = a[0, t][0][0]\n",
    "            eeg = b[0][0:65, :]\n",
    "            index = b[1]\n",
    "            samplerate = b[2]\n",
    "            label = 0\n",
    "\n",
    "            o_data = O_Data(eeg, index, label)\n",
    "            o_data65.append(o_data)"
   ]
  },
  {
   "cell_type": "code",
   "execution_count": 20,
   "metadata": {},
   "outputs": [
    {
     "data": {
      "image/png": "[encoded data removed]",
      "text/plain": [
       "<Figure size 432x288 with 1 Axes>"
      ]
     },
     "metadata": {
      "needs_background": "light"
     },
     "output_type": "display_data"
    }
   ],
   "source": [
    "for n in range(1):  # all_trial\n",
    "    number = list()  # restのindex\n",
    "    time = list()\n",
    "    all_d = sum(len(v) for v in o_data65[n].index) - 1\n",
    "    for i in range(all_d + 1):\n",
    "        time.append(i)\n",
    "    eeg = o_data65[n].eeg  # トライアルnのeeg\n",
    "    index = o_data65[n].index  # トライアルnのindex\n",
    "    label = o_data65[n].label  # トライアルnのlabel\n",
    "    for i in range(all_d):\n",
    "        if index[:, i] == 0:\n",
    "            number.append(i)\n",
    "    rest_time = len(number)  # rest時間のindex数\n",
    "\n",
    "    # 眼電の設定\n",
    "    onech_eeg = eeg[64, :]  # 一つのチャンネルのeeg\n",
    "    number = np.array(number)\n",
    "    time = np.array(time)\n",
    "\n",
    "    plt.plot(onech_eeg)\n",
    "    "
   ]
  }
 ],
 "metadata": {
  "interpreter": {
   "hash": "3067ead486e059ec00ffe7555bdb889e6e264a24dc711bf108106cc7baee8d5d"
  },
  "kernelspec": {
   "display_name": "Python 3.9.7 ('base')",
   "language": "python",
   "name": "python3"
  },
  "language_info": {
   "codemirror_mode": {
    "name": "ipython",
    "version": 3
   },
   "file_extension": ".py",
   "mimetype": "text/x-python",
   "name": "python",
   "nbconvert_exporter": "python",
   "pygments_lexer": "ipython3",
   "version": "3.9.7"
  },
  "orig_nbformat": 4
 },
 "nbformat": 4,
 "nbformat_minor": 2
}
